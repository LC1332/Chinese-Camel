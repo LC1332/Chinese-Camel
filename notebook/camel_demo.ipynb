{
  "cells": [
    {
      "cell_type": "markdown",
      "metadata": {
        "colab_type": "text",
        "id": "view-in-github"
      },
      "source": [
        "<a href=\"https://colab.research.google.com/github/LC1332/Chinese-Camel/blob/master/notebook/camel_demo.ipynb\" target=\"_parent\"><img src=\"https://colab.research.google.com/assets/colab-badge.svg\" alt=\"Open In Colab\"/></a>"
      ]
    },
    {
      "cell_type": "markdown",
      "metadata": {
        "id": "6RZYHRmByf5x"
      },
      "source": [
        "# CAMEL: 用于大语言模型社区‘思维’探索的可交互智能体\n",
        "\n",
        "这个代码是项目 https://github.com/LC1332/Chinese-Camel 的Demo\n",
        "\n",
        "是李鲁鲁对原项目的Demo的中文翻译\n",
        "\n",
        "Chinese-Camel是李鲁鲁对 CAMEL: Communicative Agents for “Mind” Exploration of Large Scale Language Model Society 的翻译。\n",
        "\n",
        "另外 CAMEL实际上也和我们的[骆驼项目](https://github.com/LC1332/Luotuo-Chinese-LLM)某种意义上同名，非常有缘分。\n",
        "\n",
        "运行这个项目需要一个你的OpenAI Token\n",
        "\n",
        "# Install CAMEL from source\n",
        "\n"
      ]
    },
    {
      "cell_type": "code",
      "execution_count": null,
      "metadata": {
        "id": "0WUuvz0OmOnE"
      },
      "outputs": [],
      "source": [
        "# ! git clone https://github.com/lightaime/camel.git\n",
        "! git clone https://github.com/LC1332/Chinese-Camel\n",
        "%cd Chinese-Camel/\n",
        "! pip install -e ."
      ]
    },
    {
      "cell_type": "markdown",
      "metadata": {
        "id": "wuI8Y9JXvoj1"
      },
      "source": [
        "# Run CAMEL role-playing session"
      ]
    },
    {
      "cell_type": "code",
      "execution_count": null,
      "metadata": {
        "id": "q2-ClmHAmPn6"
      },
      "outputs": [],
      "source": [
        "import os\n",
        "import openai\n",
        "\n",
        "openai.api_key = \"OPENAI_API_KEY\""
      ]
    },
    {
      "cell_type": "code",
      "execution_count": null,
      "metadata": {
        "id": "jd9nUSWQt-bs"
      },
      "outputs": [],
      "source": [
        "import time\n",
        "from colorama import Fore\n",
        "def print_text_animated(text):\n",
        "    for char in text:\n",
        "        print(char, end=\"\", flush=True)\n",
        "        time.sleep(0.02)"
      ]
    },
    {
      "cell_type": "code",
      "execution_count": null,
      "metadata": {
        "id": "-IhYiAWDme66"
      },
      "outputs": [],
      "source": [
        "from camel.agents import RolePlaying\n",
        "  \n",
        "# task_prompt = \"Design a custom game using pygame\"\n",
        "# print(Fore.YELLOW + f\"Original task prompt:\\n{task_prompt}\\n\")\n",
        "# role_play_session = RolePlaying(\"Computer Programmer\", \"Gamer\", task_prompt)\n",
        "# print(Fore.CYAN + f\"Specified task prompt:\\n{role_play_session.task_prompt}\\n\")\n",
        "task_prompt = \"使用Pygame设计自定义游戏\"\n",
        "print(Fore.YELLOW + f\"原始任务提示：\\n{task_prompt}\\n\")\n",
        "role_play_session = RolePlaying(\"计算机程序员\", \"游戏玩家\", task_prompt)\n",
        "print(Fore.CYAN + f\"指定任务提示：\\n{role_play_session.task_prompt}\\n\")\n",
        "\n",
        "chat_turn_limit, n = 10, 0\n",
        "assistant_msg, _ = role_play_session.init_chat()\n",
        "while n < chat_turn_limit:\n",
        "    n += 1\n",
        "    (assistant_msg, _, _), (user_msg, _, _) = role_play_session.step(assistant_msg)\n",
        "    print_text_animated(Fore.BLUE + f\"AI用户:\\n\\n{user_msg.content}\\n\\n\")\n",
        "    print_text_animated(Fore.GREEN + f\"AI助手:\\n\\n{assistant_msg.content}\\n\\n\")\n",
        "    if \"<CAMEL_TASK_DONE>\" in user_msg.content:\n",
        "        break\n"
      ]
    }
  ],
  "metadata": {
    "colab": {
      "include_colab_link": true,
      "provenance": []
    },
    "kernelspec": {
      "display_name": "Python 3",
      "name": "python3"
    },
    "language_info": {
      "name": "python"
    }
  },
  "nbformat": 4,
  "nbformat_minor": 0
}
