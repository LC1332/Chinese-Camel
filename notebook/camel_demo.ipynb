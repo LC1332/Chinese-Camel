{
  "nbformat": 4,
  "nbformat_minor": 0,
  "metadata": {
    "colab": {
      "provenance": [],
      "include_colab_link": true
    },
    "kernelspec": {
      "name": "python3",
      "display_name": "Python 3"
    },
    "language_info": {
      "name": "python"
    }
  },
  "cells": [
    {
      "cell_type": "markdown",
      "metadata": {
        "id": "view-in-github",
        "colab_type": "text"
      },
      "source": [
        "<a href=\"https://colab.research.google.com/github/LC1332/Chinese-Camel/blob/master/notebook/camel_demo.ipynb\" target=\"_parent\"><img src=\"https://colab.research.google.com/assets/colab-badge.svg\" alt=\"Open In Colab\"/></a>"
      ]
    },
    {
      "cell_type": "markdown",
      "source": [
        "# CAMEL: 用于大语言模型社区‘思维’探索的可交互智能体\n",
        "\n",
        "这个代码是项目 https://github.com/LC1332/Chinese-Camel 的Demo\n",
        "\n",
        "是李鲁鲁对原项目的Demo的中文翻译\n",
        "\n",
        "Chinese-Camel是李鲁鲁对 CAMEL: Communicative Agents for “Mind” Exploration of Large Scale Language Model Society 的翻译。\n",
        "\n",
        "另外 CAMEL实际上也和我们的[骆驼项目](https://github.com/LC1332/Luotuo-Chinese-LLM)某种意义上同名，非常有缘分。\n",
        "\n",
        "运行这个项目需要一个你的OpenAI Token\n",
        "\n",
        "# Install CAMEL from source\n",
        "\n"
      ],
      "metadata": {
        "id": "6RZYHRmByf5x"
      }
    },
    {
      "cell_type": "code",
      "execution_count": null,
      "metadata": {
        "id": "0WUuvz0OmOnE"
      },
      "outputs": [],
      "source": [
        "# ! git clone https://github.com/lightaime/camel.git\n",
        "! git clone https://github.com/LC1332/Chinese-Camel\n",
        "%cd Chinese-Camel/\n",
        "! pip install -e ."
      ]
    },
    {
      "cell_type": "markdown",
      "source": [
        "# Run CAMEL role-playing session"
      ],
      "metadata": {
        "id": "wuI8Y9JXvoj1"
      }
    },
    {
      "cell_type": "code",
      "source": [
        "import os\n",
        "import openai\n",
        "\n",
        "openai.api_key = \"OPENAI_API_KEY\""
      ],
      "metadata": {
        "id": "q2-ClmHAmPn6"
      },
      "execution_count": null,
      "outputs": []
    },
    {
      "cell_type": "code",
      "source": [
        "import time\n",
        "from colorama import Fore\n",
        "def print_text_animated(text):\n",
        "    for char in text:\n",
        "        print(char, end=\"\", flush=True)\n",
        "        time.sleep(0.02)"
      ],
      "metadata": {
        "id": "jd9nUSWQt-bs"
      },
      "execution_count": null,
      "outputs": []
    },
    {
      "cell_type": "code",
      "source": [
        "from camel.agents import RolePlaying\n",
        "  \n",
        "task_prompt = \"Design a custom game using pygame\"\n",
        "print(Fore.YELLOW + f\"Original task prompt:\\n{task_prompt}\\n\")\n",
        "role_play_session = RolePlaying(\"Computer Programmer\", \"Gamer\", task_prompt)\n",
        "print(Fore.CYAN + f\"Specified task prompt:\\n{role_play_session.task_prompt}\\n\")\n",
        "\n",
        "chat_turn_limit, n = 10, 0\n",
        "assistant_msg, _ = role_play_session.init_chat()\n",
        "while n < chat_turn_limit:\n",
        "    n += 1\n",
        "    (assistant_msg, _, _), (user_msg, _, _) = role_play_session.step(assistant_msg)\n",
        "    print_text_animated(Fore.BLUE + f\"AI User:\\n\\n{user_msg.content}\\n\\n\")\n",
        "    print_text_animated(Fore.GREEN + f\"AI Assistant:\\n\\n{assistant_msg.content}\\n\\n\")\n",
        "    if \"<CAMEL_TASK_DONE>\" in user_msg.content:\n",
        "        break\n"
      ],
      "metadata": {
        "id": "-IhYiAWDme66"
      },
      "execution_count": null,
      "outputs": []
    }
  ]
}